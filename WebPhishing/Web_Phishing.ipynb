{
 "cells": [
  {
   "attachments": {},
   "cell_type": "markdown",
   "metadata": {},
   "source": [
    "conda install -c conda-forge liac-arff\n",
    "pip install scipy"
   ]
  },
  {
   "cell_type": "code",
   "execution_count": 2,
   "outputs": [],
   "source": [
    "import pandas as pd\n",
    "from sklearn.model_selection import train_test_split\n",
    "from scipy.io import arff"
   ],
   "metadata": {
    "collapsed": false
   }
  },
  {
   "cell_type": "code",
   "execution_count": 18,
   "metadata": {},
   "outputs": [
    {
     "name": "stdout",
     "output_type": "stream",
     "text": [
      "Train df size is : 8291\n",
      "Test df size is : 2764\n",
      "Whole df size is : 11055\n",
      "Test df + Train df size is : 11055\n"
     ]
    }
   ],
   "source": [
    "# load the ARFF file\n",
    "with open('Data\\Training_Dataset.arff', 'r') as f:\n",
    "    data, meta = arff.loadarff(f)\n",
    "\n",
    "# convert to list of lists\n",
    "data_list = data.tolist()\n",
    "\n",
    "# convert to pandas DataFrame\n",
    "df = pd.DataFrame(data_list)\n",
    "\n",
    "# add attribute names as columns\n",
    "df.columns = meta.names()\n",
    "\n",
    "# iterate over the DataFrame and convert each value to a string\n",
    "for col in df.columns:\n",
    "    df[col] = df[col].apply(lambda x: x.decode() if type(x) == bytes else x)\n",
    "\n",
    "# save the DataFrame to a new csv file\n",
    "df.to_csv('Data/new_file.csv', index=False)\n",
    "\n",
    "# split the dataframe into train and test sets\n",
    "train_df, test_df = train_test_split(df, test_size=0.25, random_state=2023)\n",
    "\n",
    "# Select the last column and assign it to df_result\n",
    "result_train_df = train_df.iloc[:, -1] #all rows of hte last column\n",
    "\n",
    "# Select the last column and assign it to df_result\n",
    "result_test_df = test_df.iloc[:, -1]\n",
    "\n",
    "# drop the 'result' column from test_df\n",
    "test_df = test_df.drop('Result', axis=1)\n",
    "\n",
    "# save the train and test sets to new csv files\n",
    "train_df.to_csv('Data/train.csv', index=False)\n",
    "test_df.to_csv('Data/test.csv', index=False)\n",
    "\n",
    "# count how many records are there in DataFrame\n",
    "num_rows = df.shape[0]\n",
    "# count how many records are there in train DataFrame\n",
    "num_rows_train = train_df.shape[0]\n",
    "\n",
    "# count how many records are there in DataFrame\n",
    "num_rows_test = test_df.shape[0]\n",
    "\n",
    "print('Train df size is :' , num_rows_train)\n",
    "print('Test df size is :' , num_rows_test)\n",
    "print('Whole df size is :' ,num_rows)\n",
    "print('Test df + Train df size is :' , num_rows_train + num_rows_test)"
   ]
  },
  {
   "cell_type": "code",
   "execution_count": 21,
   "outputs": [
    {
     "name": "stdout",
     "output_type": "stream",
     "text": [
      "1     0.556943\n",
      "-1    0.443057\n",
      "Name: Result, dtype: float64\n"
     ]
    }
   ],
   "source": [
    "# liczenie ilości próbek w każdej z klas\n",
    "class_counts = df['Result'].value_counts()\n",
    "\n",
    "# obliczenie proporcji próbek w każdej z klas\n",
    "class_proportions = class_counts / class_counts.sum()\n",
    "\n",
    "print(class_proportions)"
   ],
   "metadata": {
    "collapsed": false
   }
  },
  {
   "cell_type": "code",
   "execution_count": 9,
   "metadata": {},
   "outputs": [
    {
     "name": "stdout",
     "output_type": "stream",
     "text": [
      "['having_IP_Address', 'URL_Length', 'Shortining_Service', 'having_At_Symbol', 'double_slash_redirecting', 'Prefix_Suffix', 'having_Sub_Domain', 'SSLfinal_State', 'Domain_registeration_length', 'Favicon', 'port', 'HTTPS_token', 'Request_URL', 'URL_of_Anchor', 'Links_in_tags', 'SFH', 'Submitting_to_email', 'Abnormal_URL', 'Redirect', 'on_mouseover', 'RightClick', 'popUpWidnow', 'Iframe', 'age_of_domain', 'DNSRecord', 'web_traffic', 'Page_Rank', 'Google_Index', 'Links_pointing_to_page', 'Statistical_report']\n"
     ]
    },
    {
     "ename": "AttributeError",
     "evalue": "'list' object has no attribute 'length'",
     "output_type": "error",
     "traceback": [
      "\u001B[1;31m---------------------------------------------------------------------------\u001B[0m",
      "\u001B[1;31mAttributeError\u001B[0m                            Traceback (most recent call last)",
      "Cell \u001B[1;32mIn[9], line 6\u001B[0m\n\u001B[0;32m      4\u001B[0m \u001B[38;5;66;03m# print the list of column names\u001B[39;00m\n\u001B[0;32m      5\u001B[0m \u001B[38;5;28mprint\u001B[39m(attributes_test)\n\u001B[1;32m----> 6\u001B[0m \u001B[43mattributes_test\u001B[49m\u001B[38;5;241;43m.\u001B[39;49m\u001B[43mlength\u001B[49m()\n",
      "\u001B[1;31mAttributeError\u001B[0m: 'list' object has no attribute 'length'"
     ]
    }
   ],
   "source": [
    "# get a list of all the column names\n",
    "attributes_test = test_df.columns.tolist()\n",
    "\n",
    "# print the list of column names\n",
    "print(attributes_test)"
   ]
  },
  {
   "cell_type": "code",
   "execution_count": 10,
   "metadata": {},
   "outputs": [
    {
     "name": "stdout",
     "output_type": "stream",
     "text": [
      "['having_IP_Address', 'URL_Length', 'Shortining_Service', 'having_At_Symbol', 'double_slash_redirecting', 'Prefix_Suffix', 'having_Sub_Domain', 'SSLfinal_State', 'Domain_registeration_length', 'Favicon', 'port', 'HTTPS_token', 'Request_URL', 'URL_of_Anchor', 'Links_in_tags', 'SFH', 'Submitting_to_email', 'Abnormal_URL', 'Redirect', 'on_mouseover', 'RightClick', 'popUpWidnow', 'Iframe', 'age_of_domain', 'DNSRecord', 'web_traffic', 'Page_Rank', 'Google_Index', 'Links_pointing_to_page', 'Statistical_report', 'Result']\n"
     ]
    }
   ],
   "source": [
    "# get a list of all the column names\n",
    "attributes_train = train_df.columns.tolist()\n",
    "\n",
    "# print the list of column names\n",
    "print(attributes_train)"
   ]
  },
  {
   "cell_type": "code",
   "execution_count": 11,
   "metadata": {},
   "outputs": [
    {
     "name": "stdout",
     "output_type": "stream",
     "text": [
      "<class 'pandas.core.frame.DataFrame'>\n",
      "Int64Index: 2764 entries, 8469 to 10315\n",
      "Data columns (total 30 columns):\n",
      " #   Column                       Non-Null Count  Dtype \n",
      "---  ------                       --------------  ----- \n",
      " 0   having_IP_Address            2764 non-null   object\n",
      " 1   URL_Length                   2764 non-null   object\n",
      " 2   Shortining_Service           2764 non-null   object\n",
      " 3   having_At_Symbol             2764 non-null   object\n",
      " 4   double_slash_redirecting     2764 non-null   object\n",
      " 5   Prefix_Suffix                2764 non-null   object\n",
      " 6   having_Sub_Domain            2764 non-null   object\n",
      " 7   SSLfinal_State               2764 non-null   object\n",
      " 8   Domain_registeration_length  2764 non-null   object\n",
      " 9   Favicon                      2764 non-null   object\n",
      " 10  port                         2764 non-null   object\n",
      " 11  HTTPS_token                  2764 non-null   object\n",
      " 12  Request_URL                  2764 non-null   object\n",
      " 13  URL_of_Anchor                2764 non-null   object\n",
      " 14  Links_in_tags                2764 non-null   object\n",
      " 15  SFH                          2764 non-null   object\n",
      " 16  Submitting_to_email          2764 non-null   object\n",
      " 17  Abnormal_URL                 2764 non-null   object\n",
      " 18  Redirect                     2764 non-null   object\n",
      " 19  on_mouseover                 2764 non-null   object\n",
      " 20  RightClick                   2764 non-null   object\n",
      " 21  popUpWidnow                  2764 non-null   object\n",
      " 22  Iframe                       2764 non-null   object\n",
      " 23  age_of_domain                2764 non-null   object\n",
      " 24  DNSRecord                    2764 non-null   object\n",
      " 25  web_traffic                  2764 non-null   object\n",
      " 26  Page_Rank                    2764 non-null   object\n",
      " 27  Google_Index                 2764 non-null   object\n",
      " 28  Links_pointing_to_page       2764 non-null   object\n",
      " 29  Statistical_report           2764 non-null   object\n",
      "dtypes: object(30)\n",
      "memory usage: 669.4+ KB\n"
     ]
    }
   ],
   "source": [
    "test_df.info()"
   ]
  },
  {
   "cell_type": "code",
   "execution_count": 12,
   "metadata": {},
   "outputs": [
    {
     "name": "stdout",
     "output_type": "stream",
     "text": [
      "<class 'pandas.core.frame.DataFrame'>\n",
      "Int64Index: 8291 entries, 9534 to 4951\n",
      "Data columns (total 31 columns):\n",
      " #   Column                       Non-Null Count  Dtype \n",
      "---  ------                       --------------  ----- \n",
      " 0   having_IP_Address            8291 non-null   object\n",
      " 1   URL_Length                   8291 non-null   object\n",
      " 2   Shortining_Service           8291 non-null   object\n",
      " 3   having_At_Symbol             8291 non-null   object\n",
      " 4   double_slash_redirecting     8291 non-null   object\n",
      " 5   Prefix_Suffix                8291 non-null   object\n",
      " 6   having_Sub_Domain            8291 non-null   object\n",
      " 7   SSLfinal_State               8291 non-null   object\n",
      " 8   Domain_registeration_length  8291 non-null   object\n",
      " 9   Favicon                      8291 non-null   object\n",
      " 10  port                         8291 non-null   object\n",
      " 11  HTTPS_token                  8291 non-null   object\n",
      " 12  Request_URL                  8291 non-null   object\n",
      " 13  URL_of_Anchor                8291 non-null   object\n",
      " 14  Links_in_tags                8291 non-null   object\n",
      " 15  SFH                          8291 non-null   object\n",
      " 16  Submitting_to_email          8291 non-null   object\n",
      " 17  Abnormal_URL                 8291 non-null   object\n",
      " 18  Redirect                     8291 non-null   object\n",
      " 19  on_mouseover                 8291 non-null   object\n",
      " 20  RightClick                   8291 non-null   object\n",
      " 21  popUpWidnow                  8291 non-null   object\n",
      " 22  Iframe                       8291 non-null   object\n",
      " 23  age_of_domain                8291 non-null   object\n",
      " 24  DNSRecord                    8291 non-null   object\n",
      " 25  web_traffic                  8291 non-null   object\n",
      " 26  Page_Rank                    8291 non-null   object\n",
      " 27  Google_Index                 8291 non-null   object\n",
      " 28  Links_pointing_to_page       8291 non-null   object\n",
      " 29  Statistical_report           8291 non-null   object\n",
      " 30  Result                       8291 non-null   object\n",
      "dtypes: object(31)\n",
      "memory usage: 2.0+ MB\n"
     ]
    }
   ],
   "source": [
    "train_df.info()"
   ]
  },
  {
   "cell_type": "code",
   "execution_count": 13,
   "metadata": {},
   "outputs": [
    {
     "data": {
      "text/plain": "      having_IP_Address URL_Length Shortining_Service having_At_Symbol  \\\n9534                  1         -1                  1               -1   \n7624                  1          1                  1                1   \n10634                -1          0                  1               -1   \n969                  -1          1                 -1                1   \n10857                 1         -1                  1                1   \n6966                 -1          1                 -1                1   \n4865                  1         -1                  1                1   \n6252                 -1         -1                  1                1   \n536                   1         -1                  1                1   \n7312                  1          0                 -1               -1   \n\n      double_slash_redirecting Prefix_Suffix having_Sub_Domain SSLfinal_State  \\\n9534                         1            -1                 1              1   \n7624                         1             1                -1              1   \n10634                        1            -1                 1              0   \n969                         -1             1                 1              1   \n10857                        1            -1                 0              1   \n6966                        -1            -1                 0             -1   \n4865                         1            -1                 1             -1   \n6252                         1            -1                 1              0   \n536                          1            -1                 0             -1   \n7312                         1            -1                -1              1   \n\n      Domain_registeration_length Favicon  ... popUpWidnow Iframe  \\\n9534                           -1      -1  ...          -1      1   \n7624                           -1       1  ...           1      1   \n10634                           1       1  ...           1      1   \n969                            -1       1  ...           1      1   \n10857                          -1       1  ...           1      1   \n6966                           -1       1  ...           1      1   \n4865                            1       1  ...           1      1   \n6252                            1       1  ...           1      1   \n536                            -1       1  ...           1      1   \n7312                           -1       1  ...          -1      1   \n\n      age_of_domain DNSRecord web_traffic Page_Rank Google_Index  \\\n9534              1         1           1        -1            1   \n7624             -1         1           1         1            1   \n10634             1         1           0        -1            1   \n969               1        -1           1        -1            1   \n10857             1         1           1        -1            1   \n6966              1        -1           1         1           -1   \n4865              1        -1          -1        -1            1   \n6252             -1         1           0        -1            1   \n536               1         1           1         1            1   \n7312             -1         1           1        -1            1   \n\n      Links_pointing_to_page Statistical_report Result  \n9534                       0                  1      1  \n7624                       0                  1      1  \n10634                      1                  1     -1  \n969                        1                  1      1  \n10857                      0                  1      1  \n6966                       1                  1     -1  \n4865                       1                  1     -1  \n6252                       1                  1     -1  \n536                        0                  1      1  \n7312                      -1                  1      1  \n\n[10 rows x 31 columns]",
      "text/html": "<div>\n<style scoped>\n    .dataframe tbody tr th:only-of-type {\n        vertical-align: middle;\n    }\n\n    .dataframe tbody tr th {\n        vertical-align: top;\n    }\n\n    .dataframe thead th {\n        text-align: right;\n    }\n</style>\n<table border=\"1\" class=\"dataframe\">\n  <thead>\n    <tr style=\"text-align: right;\">\n      <th></th>\n      <th>having_IP_Address</th>\n      <th>URL_Length</th>\n      <th>Shortining_Service</th>\n      <th>having_At_Symbol</th>\n      <th>double_slash_redirecting</th>\n      <th>Prefix_Suffix</th>\n      <th>having_Sub_Domain</th>\n      <th>SSLfinal_State</th>\n      <th>Domain_registeration_length</th>\n      <th>Favicon</th>\n      <th>...</th>\n      <th>popUpWidnow</th>\n      <th>Iframe</th>\n      <th>age_of_domain</th>\n      <th>DNSRecord</th>\n      <th>web_traffic</th>\n      <th>Page_Rank</th>\n      <th>Google_Index</th>\n      <th>Links_pointing_to_page</th>\n      <th>Statistical_report</th>\n      <th>Result</th>\n    </tr>\n  </thead>\n  <tbody>\n    <tr>\n      <th>9534</th>\n      <td>1</td>\n      <td>-1</td>\n      <td>1</td>\n      <td>-1</td>\n      <td>1</td>\n      <td>-1</td>\n      <td>1</td>\n      <td>1</td>\n      <td>-1</td>\n      <td>-1</td>\n      <td>...</td>\n      <td>-1</td>\n      <td>1</td>\n      <td>1</td>\n      <td>1</td>\n      <td>1</td>\n      <td>-1</td>\n      <td>1</td>\n      <td>0</td>\n      <td>1</td>\n      <td>1</td>\n    </tr>\n    <tr>\n      <th>7624</th>\n      <td>1</td>\n      <td>1</td>\n      <td>1</td>\n      <td>1</td>\n      <td>1</td>\n      <td>1</td>\n      <td>-1</td>\n      <td>1</td>\n      <td>-1</td>\n      <td>1</td>\n      <td>...</td>\n      <td>1</td>\n      <td>1</td>\n      <td>-1</td>\n      <td>1</td>\n      <td>1</td>\n      <td>1</td>\n      <td>1</td>\n      <td>0</td>\n      <td>1</td>\n      <td>1</td>\n    </tr>\n    <tr>\n      <th>10634</th>\n      <td>-1</td>\n      <td>0</td>\n      <td>1</td>\n      <td>-1</td>\n      <td>1</td>\n      <td>-1</td>\n      <td>1</td>\n      <td>0</td>\n      <td>1</td>\n      <td>1</td>\n      <td>...</td>\n      <td>1</td>\n      <td>1</td>\n      <td>1</td>\n      <td>1</td>\n      <td>0</td>\n      <td>-1</td>\n      <td>1</td>\n      <td>1</td>\n      <td>1</td>\n      <td>-1</td>\n    </tr>\n    <tr>\n      <th>969</th>\n      <td>-1</td>\n      <td>1</td>\n      <td>-1</td>\n      <td>1</td>\n      <td>-1</td>\n      <td>1</td>\n      <td>1</td>\n      <td>1</td>\n      <td>-1</td>\n      <td>1</td>\n      <td>...</td>\n      <td>1</td>\n      <td>1</td>\n      <td>1</td>\n      <td>-1</td>\n      <td>1</td>\n      <td>-1</td>\n      <td>1</td>\n      <td>1</td>\n      <td>1</td>\n      <td>1</td>\n    </tr>\n    <tr>\n      <th>10857</th>\n      <td>1</td>\n      <td>-1</td>\n      <td>1</td>\n      <td>1</td>\n      <td>1</td>\n      <td>-1</td>\n      <td>0</td>\n      <td>1</td>\n      <td>-1</td>\n      <td>1</td>\n      <td>...</td>\n      <td>1</td>\n      <td>1</td>\n      <td>1</td>\n      <td>1</td>\n      <td>1</td>\n      <td>-1</td>\n      <td>1</td>\n      <td>0</td>\n      <td>1</td>\n      <td>1</td>\n    </tr>\n    <tr>\n      <th>6966</th>\n      <td>-1</td>\n      <td>1</td>\n      <td>-1</td>\n      <td>1</td>\n      <td>-1</td>\n      <td>-1</td>\n      <td>0</td>\n      <td>-1</td>\n      <td>-1</td>\n      <td>1</td>\n      <td>...</td>\n      <td>1</td>\n      <td>1</td>\n      <td>1</td>\n      <td>-1</td>\n      <td>1</td>\n      <td>1</td>\n      <td>-1</td>\n      <td>1</td>\n      <td>1</td>\n      <td>-1</td>\n    </tr>\n    <tr>\n      <th>4865</th>\n      <td>1</td>\n      <td>-1</td>\n      <td>1</td>\n      <td>1</td>\n      <td>1</td>\n      <td>-1</td>\n      <td>1</td>\n      <td>-1</td>\n      <td>1</td>\n      <td>1</td>\n      <td>...</td>\n      <td>1</td>\n      <td>1</td>\n      <td>1</td>\n      <td>-1</td>\n      <td>-1</td>\n      <td>-1</td>\n      <td>1</td>\n      <td>1</td>\n      <td>1</td>\n      <td>-1</td>\n    </tr>\n    <tr>\n      <th>6252</th>\n      <td>-1</td>\n      <td>-1</td>\n      <td>1</td>\n      <td>1</td>\n      <td>1</td>\n      <td>-1</td>\n      <td>1</td>\n      <td>0</td>\n      <td>1</td>\n      <td>1</td>\n      <td>...</td>\n      <td>1</td>\n      <td>1</td>\n      <td>-1</td>\n      <td>1</td>\n      <td>0</td>\n      <td>-1</td>\n      <td>1</td>\n      <td>1</td>\n      <td>1</td>\n      <td>-1</td>\n    </tr>\n    <tr>\n      <th>536</th>\n      <td>1</td>\n      <td>-1</td>\n      <td>1</td>\n      <td>1</td>\n      <td>1</td>\n      <td>-1</td>\n      <td>0</td>\n      <td>-1</td>\n      <td>-1</td>\n      <td>1</td>\n      <td>...</td>\n      <td>1</td>\n      <td>1</td>\n      <td>1</td>\n      <td>1</td>\n      <td>1</td>\n      <td>1</td>\n      <td>1</td>\n      <td>0</td>\n      <td>1</td>\n      <td>1</td>\n    </tr>\n    <tr>\n      <th>7312</th>\n      <td>1</td>\n      <td>0</td>\n      <td>-1</td>\n      <td>-1</td>\n      <td>1</td>\n      <td>-1</td>\n      <td>-1</td>\n      <td>1</td>\n      <td>-1</td>\n      <td>1</td>\n      <td>...</td>\n      <td>-1</td>\n      <td>1</td>\n      <td>-1</td>\n      <td>1</td>\n      <td>1</td>\n      <td>-1</td>\n      <td>1</td>\n      <td>-1</td>\n      <td>1</td>\n      <td>1</td>\n    </tr>\n  </tbody>\n</table>\n<p>10 rows × 31 columns</p>\n</div>"
     },
     "execution_count": 13,
     "metadata": {},
     "output_type": "execute_result"
    }
   ],
   "source": [
    "train_df.head(10)"
   ]
  },
  {
   "cell_type": "code",
   "execution_count": 14,
   "metadata": {},
   "outputs": [
    {
     "data": {
      "text/plain": "      having_IP_Address URL_Length Shortining_Service having_At_Symbol  \\\n8469                 -1          1                 -1                1   \n8650                  1         -1                 -1                1   \n8026                 -1         -1                 -1               -1   \n3843                  1          1                  1                1   \n7242                 -1         -1                  1                1   \n640                  -1         -1                 -1                1   \n5492                 -1         -1                  1                1   \n10667                 1         -1                  1                1   \n8921                  1         -1                  1                1   \n9905                 -1         -1                 -1               -1   \n\n      double_slash_redirecting Prefix_Suffix having_Sub_Domain SSLfinal_State  \\\n8469                        -1            -1                 1              1   \n8650                        -1            -1                 1             -1   \n8026                        -1            -1                -1             -1   \n3843                         1            -1                 1              1   \n7242                         1            -1                 0             -1   \n640                         -1            -1                 0             -1   \n5492                         1             1                -1             -1   \n10667                        1            -1                 0              1   \n8921                         1            -1                 1              1   \n9905                        -1            -1                 0             -1   \n\n      Domain_registeration_length Favicon  ... RightClick popUpWidnow Iframe  \\\n8469                           -1       1  ...          1           1      1   \n8650                           -1       1  ...          1           1      1   \n8026                           -1       1  ...          1          -1      1   \n3843                            1      -1  ...          1          -1      1   \n7242                           -1      -1  ...          1          -1     -1   \n640                             1       1  ...          1           1      1   \n5492                           -1       1  ...          1           1      1   \n10667                          -1       1  ...          1           1      1   \n8921                            1       1  ...          1           1      1   \n9905                           -1      -1  ...          1          -1      1   \n\n      age_of_domain DNSRecord web_traffic Page_Rank Google_Index  \\\n8469              1        -1          -1         1            1   \n8650              1        -1           1        -1            1   \n8026             -1        -1          -1        -1           -1   \n3843              1        -1           1        -1           -1   \n7242             -1         1           1         1            1   \n640              -1         1          -1        -1            1   \n5492             -1         1           1        -1            1   \n10667             1         1           1        -1            1   \n8921             -1         1           0        -1            1   \n9905              1        -1           0        -1            1   \n\n      Links_pointing_to_page Statistical_report  \n8469                       1                  1  \n8650                       1                  1  \n8026                       1                  1  \n3843                       0                  1  \n7242                      -1                  1  \n640                        0                  1  \n5492                       1                  1  \n10667                      0                  1  \n8921                       0                  1  \n9905                       1                  1  \n\n[10 rows x 30 columns]",
      "text/html": "<div>\n<style scoped>\n    .dataframe tbody tr th:only-of-type {\n        vertical-align: middle;\n    }\n\n    .dataframe tbody tr th {\n        vertical-align: top;\n    }\n\n    .dataframe thead th {\n        text-align: right;\n    }\n</style>\n<table border=\"1\" class=\"dataframe\">\n  <thead>\n    <tr style=\"text-align: right;\">\n      <th></th>\n      <th>having_IP_Address</th>\n      <th>URL_Length</th>\n      <th>Shortining_Service</th>\n      <th>having_At_Symbol</th>\n      <th>double_slash_redirecting</th>\n      <th>Prefix_Suffix</th>\n      <th>having_Sub_Domain</th>\n      <th>SSLfinal_State</th>\n      <th>Domain_registeration_length</th>\n      <th>Favicon</th>\n      <th>...</th>\n      <th>RightClick</th>\n      <th>popUpWidnow</th>\n      <th>Iframe</th>\n      <th>age_of_domain</th>\n      <th>DNSRecord</th>\n      <th>web_traffic</th>\n      <th>Page_Rank</th>\n      <th>Google_Index</th>\n      <th>Links_pointing_to_page</th>\n      <th>Statistical_report</th>\n    </tr>\n  </thead>\n  <tbody>\n    <tr>\n      <th>8469</th>\n      <td>-1</td>\n      <td>1</td>\n      <td>-1</td>\n      <td>1</td>\n      <td>-1</td>\n      <td>-1</td>\n      <td>1</td>\n      <td>1</td>\n      <td>-1</td>\n      <td>1</td>\n      <td>...</td>\n      <td>1</td>\n      <td>1</td>\n      <td>1</td>\n      <td>1</td>\n      <td>-1</td>\n      <td>-1</td>\n      <td>1</td>\n      <td>1</td>\n      <td>1</td>\n      <td>1</td>\n    </tr>\n    <tr>\n      <th>8650</th>\n      <td>1</td>\n      <td>-1</td>\n      <td>-1</td>\n      <td>1</td>\n      <td>-1</td>\n      <td>-1</td>\n      <td>1</td>\n      <td>-1</td>\n      <td>-1</td>\n      <td>1</td>\n      <td>...</td>\n      <td>1</td>\n      <td>1</td>\n      <td>1</td>\n      <td>1</td>\n      <td>-1</td>\n      <td>1</td>\n      <td>-1</td>\n      <td>1</td>\n      <td>1</td>\n      <td>1</td>\n    </tr>\n    <tr>\n      <th>8026</th>\n      <td>-1</td>\n      <td>-1</td>\n      <td>-1</td>\n      <td>-1</td>\n      <td>-1</td>\n      <td>-1</td>\n      <td>-1</td>\n      <td>-1</td>\n      <td>-1</td>\n      <td>1</td>\n      <td>...</td>\n      <td>1</td>\n      <td>-1</td>\n      <td>1</td>\n      <td>-1</td>\n      <td>-1</td>\n      <td>-1</td>\n      <td>-1</td>\n      <td>-1</td>\n      <td>1</td>\n      <td>1</td>\n    </tr>\n    <tr>\n      <th>3843</th>\n      <td>1</td>\n      <td>1</td>\n      <td>1</td>\n      <td>1</td>\n      <td>1</td>\n      <td>-1</td>\n      <td>1</td>\n      <td>1</td>\n      <td>1</td>\n      <td>-1</td>\n      <td>...</td>\n      <td>1</td>\n      <td>-1</td>\n      <td>1</td>\n      <td>1</td>\n      <td>-1</td>\n      <td>1</td>\n      <td>-1</td>\n      <td>-1</td>\n      <td>0</td>\n      <td>1</td>\n    </tr>\n    <tr>\n      <th>7242</th>\n      <td>-1</td>\n      <td>-1</td>\n      <td>1</td>\n      <td>1</td>\n      <td>1</td>\n      <td>-1</td>\n      <td>0</td>\n      <td>-1</td>\n      <td>-1</td>\n      <td>-1</td>\n      <td>...</td>\n      <td>1</td>\n      <td>-1</td>\n      <td>-1</td>\n      <td>-1</td>\n      <td>1</td>\n      <td>1</td>\n      <td>1</td>\n      <td>1</td>\n      <td>-1</td>\n      <td>1</td>\n    </tr>\n    <tr>\n      <th>640</th>\n      <td>-1</td>\n      <td>-1</td>\n      <td>-1</td>\n      <td>1</td>\n      <td>-1</td>\n      <td>-1</td>\n      <td>0</td>\n      <td>-1</td>\n      <td>1</td>\n      <td>1</td>\n      <td>...</td>\n      <td>1</td>\n      <td>1</td>\n      <td>1</td>\n      <td>-1</td>\n      <td>1</td>\n      <td>-1</td>\n      <td>-1</td>\n      <td>1</td>\n      <td>0</td>\n      <td>1</td>\n    </tr>\n    <tr>\n      <th>5492</th>\n      <td>-1</td>\n      <td>-1</td>\n      <td>1</td>\n      <td>1</td>\n      <td>1</td>\n      <td>1</td>\n      <td>-1</td>\n      <td>-1</td>\n      <td>-1</td>\n      <td>1</td>\n      <td>...</td>\n      <td>1</td>\n      <td>1</td>\n      <td>1</td>\n      <td>-1</td>\n      <td>1</td>\n      <td>1</td>\n      <td>-1</td>\n      <td>1</td>\n      <td>1</td>\n      <td>1</td>\n    </tr>\n    <tr>\n      <th>10667</th>\n      <td>1</td>\n      <td>-1</td>\n      <td>1</td>\n      <td>1</td>\n      <td>1</td>\n      <td>-1</td>\n      <td>0</td>\n      <td>1</td>\n      <td>-1</td>\n      <td>1</td>\n      <td>...</td>\n      <td>1</td>\n      <td>1</td>\n      <td>1</td>\n      <td>1</td>\n      <td>1</td>\n      <td>1</td>\n      <td>-1</td>\n      <td>1</td>\n      <td>0</td>\n      <td>1</td>\n    </tr>\n    <tr>\n      <th>8921</th>\n      <td>1</td>\n      <td>-1</td>\n      <td>1</td>\n      <td>1</td>\n      <td>1</td>\n      <td>-1</td>\n      <td>1</td>\n      <td>1</td>\n      <td>1</td>\n      <td>1</td>\n      <td>...</td>\n      <td>1</td>\n      <td>1</td>\n      <td>1</td>\n      <td>-1</td>\n      <td>1</td>\n      <td>0</td>\n      <td>-1</td>\n      <td>1</td>\n      <td>0</td>\n      <td>1</td>\n    </tr>\n    <tr>\n      <th>9905</th>\n      <td>-1</td>\n      <td>-1</td>\n      <td>-1</td>\n      <td>-1</td>\n      <td>-1</td>\n      <td>-1</td>\n      <td>0</td>\n      <td>-1</td>\n      <td>-1</td>\n      <td>-1</td>\n      <td>...</td>\n      <td>1</td>\n      <td>-1</td>\n      <td>1</td>\n      <td>1</td>\n      <td>-1</td>\n      <td>0</td>\n      <td>-1</td>\n      <td>1</td>\n      <td>1</td>\n      <td>1</td>\n    </tr>\n  </tbody>\n</table>\n<p>10 rows × 30 columns</p>\n</div>"
     },
     "execution_count": 14,
     "metadata": {},
     "output_type": "execute_result"
    }
   ],
   "source": [
    "test_df.head(10)"
   ]
  },
  {
   "cell_type": "code",
   "execution_count": 8,
   "metadata": {},
   "outputs": [
    {
     "data": {
      "text/plain": [
       "Perceptron(alpha=0.05)"
      ]
     },
     "execution_count": 8,
     "metadata": {},
     "output_type": "execute_result"
    }
   ],
   "source": [
    "from sklearn.linear_model import Perceptron\n",
    "from sklearn.preprocessing import LabelEncoder\n",
    "\n",
    "\n",
    "\n",
    "# Convert the data into a format that can be used by the perceptron\n",
    "X_train = train_df.iloc[:, :-1].values\n",
    "y_train = train_df.iloc[:, -1].values\n",
    "\n",
    "# Encode the categorical variables\n",
    "encoder = LabelEncoder()\n",
    "for i in range(X_train.shape[1]):\n",
    "    if type(X_train[0, i]) is str:\n",
    "        X_train[:, i] = encoder.fit_transform(X_train[:, i])\n",
    "\n",
    "# Create a perceptron object\n",
    "perceptron = Perceptron(max_iter=1000, tol=1e-3,alpha=0.05, random_state=0)\n",
    "\n",
    "# Fit the perceptron to the training data\n",
    "perceptron.fit(X_train, y_train)"
   ]
  },
  {
   "cell_type": "code",
   "execution_count": null,
   "outputs": [],
   "source": [],
   "metadata": {
    "collapsed": false
   }
  },
  {
   "cell_type": "code",
   "execution_count": 10,
   "metadata": {},
   "outputs": [
    {
     "name": "stdout",
     "output_type": "stream",
     "text": [
      "1453 out of  2764\n",
      "0.5256874095513748\n"
     ]
    }
   ],
   "source": [
    "# Convert the test data into a format that can be used by the perceptron\n",
    "X_test = test_df.values\n",
    "\n",
    "# Encode the categorical variables in the test data\n",
    "encoder = LabelEncoder()\n",
    "for i in range(X_train.shape[1]):\n",
    "    if type(X_train[0, i]) is str:\n",
    "        X_train[:, i] = encoder.fit_transform(X_train[:, i])\n",
    "        X_test[:, i] = encoder.transform(X_test[:, i])\n",
    "\n",
    "# Make predictions on the test data\n",
    "y_pred = perceptron.predict(X_test)\n",
    "\n",
    "correct_predictions = (y_pred == result_test_df).sum()\n",
    "\n",
    "\n",
    "print(correct_predictions , 'out of ',num_rows_test) \n",
    "print(correct_predictions / num_rows_test)"
   ]
  },
  {
   "cell_type": "code",
   "execution_count": 22,
   "outputs": [
    {
     "ename": "NameError",
     "evalue": "name 'X_train' is not defined",
     "output_type": "error",
     "traceback": [
      "\u001B[1;31m---------------------------------------------------------------------------\u001B[0m",
      "\u001B[1;31mNameError\u001B[0m                                 Traceback (most recent call last)",
      "Cell \u001B[1;32mIn[22], line 14\u001B[0m\n\u001B[0;32m     11\u001B[0m \u001B[38;5;66;03m# Kompilacja sieci\u001B[39;00m\n\u001B[0;32m     12\u001B[0m model\u001B[38;5;241m.\u001B[39mcompile(loss\u001B[38;5;241m=\u001B[39m\u001B[38;5;124m'\u001B[39m\u001B[38;5;124mbinary_crossentropy\u001B[39m\u001B[38;5;124m'\u001B[39m, optimizer\u001B[38;5;241m=\u001B[39m\u001B[38;5;124m'\u001B[39m\u001B[38;5;124madam\u001B[39m\u001B[38;5;124m'\u001B[39m, metrics\u001B[38;5;241m=\u001B[39m[\u001B[38;5;124m'\u001B[39m\u001B[38;5;124maccuracy\u001B[39m\u001B[38;5;124m'\u001B[39m])\n\u001B[1;32m---> 14\u001B[0m model\u001B[38;5;241m.\u001B[39mfit(\u001B[43mX_train\u001B[49m,y_train, epochs \u001B[38;5;241m=\u001B[39m\u001B[38;5;241m20\u001B[39m, batch_size\u001B[38;5;241m=\u001B[39m\u001B[38;5;241m32\u001B[39m, validation_data\u001B[38;5;241m=\u001B[39m(X_test,y_pred))\n\u001B[0;32m     15\u001B[0m test_loss, test_acc \u001B[38;5;241m=\u001B[39m model\u001B[38;5;241m.\u001B[39mevaluate(X_test,y_pred)\n\u001B[0;32m     16\u001B[0m \u001B[38;5;28mprint\u001B[39m(\u001B[38;5;124m'\u001B[39m\u001B[38;5;124mTest accuracy: \u001B[39m\u001B[38;5;124m'\u001B[39m, test_acc)\n",
      "\u001B[1;31mNameError\u001B[0m: name 'X_train' is not defined"
     ]
    }
   ],
   "source": [
    "from keras.models import Sequential\n",
    "from keras.layers import Dense\n",
    "\n",
    "# Tworzenie sieci\n",
    "model = Sequential()\n",
    "model.add(Dense(32, input_dim=30, activation='relu')) # warstwa wejściowa, 32 neuronów, 31 wejść\n",
    "model.add(Dense(16, activation='relu')) # pierwsza warstwa ukryta, 16 neuronów\n",
    "model.add(Dense(8, activation='relu')) # druga warstwa ukryta, 8 neuronów\n",
    "model.add(Dense(1, activation='sigmoid')) # warstwa wyjściowa, 1 neuron, funkcja aktywacji sigmoid\n",
    "\n",
    "# Kompilacja sieci\n",
    "model.compile(loss='binary_crossentropy', optimizer='adam', metrics=['accuracy'])\n",
    "\n",
    "model.fit(X_train,y_train, epochs =20, batch_size=32, validation_data=(X_test,y_pred))\n",
    "test_loss, test_acc = model.evaluate(X_test,y_pred)\n",
    "print('Test accuracy: ', test_acc)"
   ],
   "metadata": {
    "collapsed": false
   }
  },
  {
   "cell_type": "code",
   "execution_count": null,
   "outputs": [],
   "source": [],
   "metadata": {
    "collapsed": false
   }
  }
 ],
 "metadata": {
  "kernelspec": {
   "display_name": "base",
   "language": "python",
   "name": "python3"
  },
  "language_info": {
   "codemirror_mode": {
    "name": "ipython",
    "version": 3
   },
   "file_extension": ".py",
   "mimetype": "text/x-python",
   "name": "python",
   "nbconvert_exporter": "python",
   "pygments_lexer": "ipython3",
   "version": "3.9.13"
  },
  "orig_nbformat": 4,
  "vscode": {
   "interpreter": {
    "hash": "611692d17e63ed997ae73375d83c3c292dce2403bb7bb1a8a47f1836ea3197ec"
   }
  }
 },
 "nbformat": 4,
 "nbformat_minor": 2
}
