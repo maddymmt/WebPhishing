{
 "cells": [
  {
   "attachments": {},
   "cell_type": "markdown",
   "metadata": {},
   "source": [
    "conda install -c conda-forge liac-arff\n",
    "pip install scipy"
   ]
  },
  {
   "cell_type": "code",
   "execution_count": 2,
   "outputs": [],
   "source": [
    "import pandas as pd\n",
    "from sklearn.model_selection import train_test_split\n",
    "from scipy.io import arff"
   ],
   "metadata": {
    "collapsed": false
   }
  },
  {
   "cell_type": "code",
   "execution_count": 52,
   "metadata": {},
   "outputs": [
    {
     "name": "stdout",
     "output_type": "stream",
     "text": [
      "Train df size is : 8291\n",
      "Test df size is : 2764\n",
      "Whole df size is : 11055\n",
      "Test df + Train df size is : 11055\n"
     ]
    }
   ],
   "source": [
    "# load the ARFF file\n",
    "with open('Data\\Training_Dataset.arff', 'r') as f:\n",
    "    data, meta = arff.loadarff(f)\n",
    "\n",
    "# convert to list of lists\n",
    "data_list = data.tolist()\n",
    "\n",
    "# convert to pandas DataFrame\n",
    "df = pd.DataFrame(data_list)\n",
    "\n",
    "# add attribute names as columns\n",
    "df.columns = meta.names()\n",
    "\n",
    "# iterate over the DataFrame and convert each value to a string\n",
    "for col in df.columns:\n",
    "    df[col] = df[col].apply(lambda x: x.decode() if type(x) == bytes else x)\n",
    "\n",
    "df = df.astype(float)\n",
    "\n",
    "# save the DataFrame to a new csv file\n",
    "# df.to_csv('Data/new_file.csv', index=False)\n",
    "\n",
    "# split the dataframe into train and test sets\n",
    "# train_df, test_df = train_test_split(df, test_size=0.25, random_state=2023)\n",
    "X_train, X_test, y_train, y_test = train_test_split(df.drop('Result', axis=1), df['Result'], test_size=0.25)\n",
    "\n",
    "# count how many records are there in DataFrame\n",
    "num_rows = df.shape[0]\n",
    "\n",
    "# count how many records are there in train DataFrame\n",
    "num_rows_train = X_train.shape[0]\n",
    "\n",
    "# count how many records are there in DataFrame\n",
    "num_rows_test = X_test.shape[0]\n",
    "\n",
    "print('Train df size is :' , num_rows_train)\n",
    "print('Test df size is :' , num_rows_test)\n",
    "print('Whole df size is :' ,num_rows)\n",
    "print('Test df + Train df size is :' , num_rows_train + num_rows_test)"
   ]
  },
  {
   "cell_type": "code",
   "execution_count": 47,
   "outputs": [
    {
     "name": "stdout",
     "output_type": "stream",
     "text": [
      " 1.0    0.556943\n",
      "-1.0    0.443057\n",
      "Name: Result, dtype: float64\n"
     ]
    }
   ],
   "source": [
    "# liczenie ilości próbek w każdej z klas\n",
    "class_counts = df['Result'].value_counts()\n",
    "\n",
    "# obliczenie proporcji próbek w każdej z klas\n",
    "class_proportions = class_counts / class_counts.sum()\n",
    "\n",
    "print(class_proportions)"
   ],
   "metadata": {
    "collapsed": false
   }
  },
  {
   "cell_type": "code",
   "execution_count": 48,
   "metadata": {},
   "outputs": [
    {
     "name": "stdout",
     "output_type": "stream",
     "text": [
      "['having_IP_Address', 'URL_Length', 'Shortining_Service', 'having_At_Symbol', 'double_slash_redirecting', 'Prefix_Suffix', 'having_Sub_Domain', 'SSLfinal_State', 'Domain_registeration_length', 'Favicon', 'port', 'HTTPS_token', 'Request_URL', 'URL_of_Anchor', 'Links_in_tags', 'SFH', 'Submitting_to_email', 'Abnormal_URL', 'Redirect', 'on_mouseover', 'RightClick', 'popUpWidnow', 'Iframe', 'age_of_domain', 'DNSRecord', 'web_traffic', 'Page_Rank', 'Google_Index', 'Links_pointing_to_page', 'Statistical_report', 'Result']\n"
     ]
    }
   ],
   "source": [
    "# get a list of all the column names\n",
    "attributes_test = df.columns.tolist()\n",
    "\n",
    "# print the list of column names\n",
    "print(attributes_test)"
   ]
  },
  {
   "cell_type": "code",
   "execution_count": 49,
   "metadata": {},
   "outputs": [
    {
     "name": "stdout",
     "output_type": "stream",
     "text": [
      "<class 'pandas.core.frame.DataFrame'>\n",
      "Int64Index: 8291 entries, 5586 to 6479\n",
      "Data columns (total 30 columns):\n",
      " #   Column                       Non-Null Count  Dtype  \n",
      "---  ------                       --------------  -----  \n",
      " 0   having_IP_Address            8291 non-null   float64\n",
      " 1   URL_Length                   8291 non-null   float64\n",
      " 2   Shortining_Service           8291 non-null   float64\n",
      " 3   having_At_Symbol             8291 non-null   float64\n",
      " 4   double_slash_redirecting     8291 non-null   float64\n",
      " 5   Prefix_Suffix                8291 non-null   float64\n",
      " 6   having_Sub_Domain            8291 non-null   float64\n",
      " 7   SSLfinal_State               8291 non-null   float64\n",
      " 8   Domain_registeration_length  8291 non-null   float64\n",
      " 9   Favicon                      8291 non-null   float64\n",
      " 10  port                         8291 non-null   float64\n",
      " 11  HTTPS_token                  8291 non-null   float64\n",
      " 12  Request_URL                  8291 non-null   float64\n",
      " 13  URL_of_Anchor                8291 non-null   float64\n",
      " 14  Links_in_tags                8291 non-null   float64\n",
      " 15  SFH                          8291 non-null   float64\n",
      " 16  Submitting_to_email          8291 non-null   float64\n",
      " 17  Abnormal_URL                 8291 non-null   float64\n",
      " 18  Redirect                     8291 non-null   float64\n",
      " 19  on_mouseover                 8291 non-null   float64\n",
      " 20  RightClick                   8291 non-null   float64\n",
      " 21  popUpWidnow                  8291 non-null   float64\n",
      " 22  Iframe                       8291 non-null   float64\n",
      " 23  age_of_domain                8291 non-null   float64\n",
      " 24  DNSRecord                    8291 non-null   float64\n",
      " 25  web_traffic                  8291 non-null   float64\n",
      " 26  Page_Rank                    8291 non-null   float64\n",
      " 27  Google_Index                 8291 non-null   float64\n",
      " 28  Links_pointing_to_page       8291 non-null   float64\n",
      " 29  Statistical_report           8291 non-null   float64\n",
      "dtypes: float64(30)\n",
      "memory usage: 2.0 MB\n"
     ]
    }
   ],
   "source": [
    "X_train.info()"
   ]
  },
  {
   "cell_type": "code",
   "execution_count": 50,
   "metadata": {},
   "outputs": [
    {
     "name": "stdout",
     "output_type": "stream",
     "text": [
      "<class 'pandas.core.frame.DataFrame'>\n",
      "Int64Index: 2764 entries, 2497 to 3388\n",
      "Data columns (total 30 columns):\n",
      " #   Column                       Non-Null Count  Dtype  \n",
      "---  ------                       --------------  -----  \n",
      " 0   having_IP_Address            2764 non-null   float64\n",
      " 1   URL_Length                   2764 non-null   float64\n",
      " 2   Shortining_Service           2764 non-null   float64\n",
      " 3   having_At_Symbol             2764 non-null   float64\n",
      " 4   double_slash_redirecting     2764 non-null   float64\n",
      " 5   Prefix_Suffix                2764 non-null   float64\n",
      " 6   having_Sub_Domain            2764 non-null   float64\n",
      " 7   SSLfinal_State               2764 non-null   float64\n",
      " 8   Domain_registeration_length  2764 non-null   float64\n",
      " 9   Favicon                      2764 non-null   float64\n",
      " 10  port                         2764 non-null   float64\n",
      " 11  HTTPS_token                  2764 non-null   float64\n",
      " 12  Request_URL                  2764 non-null   float64\n",
      " 13  URL_of_Anchor                2764 non-null   float64\n",
      " 14  Links_in_tags                2764 non-null   float64\n",
      " 15  SFH                          2764 non-null   float64\n",
      " 16  Submitting_to_email          2764 non-null   float64\n",
      " 17  Abnormal_URL                 2764 non-null   float64\n",
      " 18  Redirect                     2764 non-null   float64\n",
      " 19  on_mouseover                 2764 non-null   float64\n",
      " 20  RightClick                   2764 non-null   float64\n",
      " 21  popUpWidnow                  2764 non-null   float64\n",
      " 22  Iframe                       2764 non-null   float64\n",
      " 23  age_of_domain                2764 non-null   float64\n",
      " 24  DNSRecord                    2764 non-null   float64\n",
      " 25  web_traffic                  2764 non-null   float64\n",
      " 26  Page_Rank                    2764 non-null   float64\n",
      " 27  Google_Index                 2764 non-null   float64\n",
      " 28  Links_pointing_to_page       2764 non-null   float64\n",
      " 29  Statistical_report           2764 non-null   float64\n",
      "dtypes: float64(30)\n",
      "memory usage: 669.4 KB\n"
     ]
    }
   ],
   "source": [
    "X_test.info()"
   ]
  },
  {
   "cell_type": "code",
   "execution_count": 10,
   "metadata": {},
   "outputs": [
    {
     "name": "stdout",
     "output_type": "stream",
     "text": [
      "1453 out of  2764\n",
      "0.5256874095513748\n"
     ]
    }
   ],
   "source": [
    "# # Convert the test data into a format that can be used by the perceptron\n",
    "# X_test = test_df.values\n",
    "#\n",
    "# # Encode the categorical variables in the test data\n",
    "# encoder = LabelEncoder()\n",
    "# for i in range(X_train.shape[1]):\n",
    "#     if type(X_train[0, i]) is str:\n",
    "#         X_train[:, i] = encoder.fit_transform(X_train[:, i])\n",
    "#         X_test[:, i] = encoder.transform(X_test[:, i])\n",
    "#\n",
    "# # Make predictions on the test data\n",
    "# y_pred = perceptron.predict(X_test)\n",
    "#\n",
    "# correct_predictions = (y_pred == result_test_df).sum()\n",
    "#\n",
    "#\n",
    "# print(correct_predictions , 'out of ',num_rows_test)\n",
    "# print(correct_predictions / num_rows_test)"
   ]
  },
  {
   "cell_type": "code",
   "execution_count": 51,
   "outputs": [
    {
     "name": "stdout",
     "output_type": "stream",
     "text": [
      "Epoch 1/20\n",
      "260/260 [==============================] - 2s 3ms/step - loss: -14.0977 - accuracy: 0.1907 - val_loss: -73.3645 - val_accuracy: 0.3173\n",
      "Epoch 2/20\n",
      "260/260 [==============================] - 0s 2ms/step - loss: -658.2969 - accuracy: 0.2900 - val_loss: -1789.1355 - val_accuracy: 0.3119\n",
      "Epoch 3/20\n",
      "260/260 [==============================] - 1s 2ms/step - loss: -5218.9609 - accuracy: 0.2924 - val_loss: -9770.4238 - val_accuracy: 0.3079\n",
      "Epoch 4/20\n",
      "260/260 [==============================] - 1s 2ms/step - loss: -19218.4512 - accuracy: 0.2892 - val_loss: -29716.7031 - val_accuracy: 0.3086\n",
      "Epoch 5/20\n",
      "260/260 [==============================] - 0s 2ms/step - loss: -49796.7891 - accuracy: 0.2872 - val_loss: -69323.0469 - val_accuracy: 0.3285\n",
      "Epoch 6/20\n",
      "260/260 [==============================] - 0s 2ms/step - loss: -103978.0859 - accuracy: 0.2930 - val_loss: -134497.0625 - val_accuracy: 0.3086\n",
      "Epoch 7/20\n",
      "260/260 [==============================] - 1s 2ms/step - loss: -189109.1875 - accuracy: 0.2884 - val_loss: -233759.1250 - val_accuracy: 0.3086\n",
      "Epoch 8/20\n",
      "260/260 [==============================] - 1s 2ms/step - loss: -316801.8125 - accuracy: 0.2918 - val_loss: -378578.5625 - val_accuracy: 0.3021\n",
      "Epoch 9/20\n",
      "260/260 [==============================] - 0s 2ms/step - loss: -497218.6250 - accuracy: 0.2872 - val_loss: -577185.3750 - val_accuracy: 0.3046\n",
      "Epoch 10/20\n",
      "260/260 [==============================] - 1s 2ms/step - loss: -735771.5625 - accuracy: 0.2881 - val_loss: -834578.6250 - val_accuracy: 0.2996\n",
      "Epoch 11/20\n",
      "260/260 [==============================] - 0s 2ms/step - loss: -1040978.6875 - accuracy: 0.2845 - val_loss: -1158901.1250 - val_accuracy: 0.3007\n",
      "Epoch 12/20\n",
      "260/260 [==============================] - 0s 2ms/step - loss: -1417411.0000 - accuracy: 0.2843 - val_loss: -1554195.6250 - val_accuracy: 0.3039\n",
      "Epoch 13/20\n",
      "260/260 [==============================] - 1s 2ms/step - loss: -1879185.0000 - accuracy: 0.2830 - val_loss: -2039885.2500 - val_accuracy: 0.3025\n",
      "Epoch 14/20\n",
      "260/260 [==============================] - 0s 2ms/step - loss: -2437721.5000 - accuracy: 0.2828 - val_loss: -2617429.5000 - val_accuracy: 0.3043\n",
      "Epoch 15/20\n",
      "260/260 [==============================] - 1s 2ms/step - loss: -3095110.0000 - accuracy: 0.2875 - val_loss: -3288419.0000 - val_accuracy: 0.3007\n",
      "Epoch 16/20\n",
      "260/260 [==============================] - 0s 2ms/step - loss: -3850969.5000 - accuracy: 0.2798 - val_loss: -4059679.5000 - val_accuracy: 0.3068\n",
      "Epoch 17/20\n",
      "260/260 [==============================] - 0s 2ms/step - loss: -4720967.0000 - accuracy: 0.2857 - val_loss: -4942654.5000 - val_accuracy: 0.3025\n",
      "Epoch 18/20\n",
      "260/260 [==============================] - 0s 2ms/step - loss: -5709703.5000 - accuracy: 0.2828 - val_loss: -5941739.5000 - val_accuracy: 0.3007\n",
      "Epoch 19/20\n",
      "260/260 [==============================] - 0s 2ms/step - loss: -6820636.5000 - accuracy: 0.2842 - val_loss: -7057259.0000 - val_accuracy: 0.3007\n",
      "Epoch 20/20\n",
      "260/260 [==============================] - 0s 2ms/step - loss: -8063267.0000 - accuracy: 0.2821 - val_loss: -8310461.0000 - val_accuracy: 0.3017\n",
      "87/87 [==============================] - 0s 1ms/step - loss: -8310461.0000 - accuracy: 0.3017\n",
      "Test accuracy:  0.30173662304878235\n"
     ]
    }
   ],
   "source": [
    "from keras.models import Sequential\n",
    "from keras.layers import Dense\n",
    "\n",
    "# Tworzenie sieci\n",
    "model = Sequential()\n",
    "model.add(Dense(32, input_dim=30, activation='relu')) # warstwa wejściowa, 32 neuronów, 31 wejść\n",
    "model.add(Dense(16, activation='relu')) # pierwsza warstwa ukryta, 16 neuronów\n",
    "model.add(Dense(8, activation='relu')) # druga warstwa ukryta, 8 neuronów\n",
    "model.add(Dense(1, activation='sigmoid')) # warstwa wyjściowa, 1 neuron, funkcja aktywacji sigmoid\n",
    "\n",
    "# Kompilacja sieci\n",
    "model.compile(loss='binary_crossentropy', optimizer='adam', metrics=['accuracy'])\n",
    "\n",
    "model.fit(X_train,y_train, epochs =20, batch_size=32, validation_data=(X_test,y_test))\n",
    "test_loss, test_acc = model.evaluate(X_test,y_test)\n",
    "print('Test accuracy: ', test_acc)"
   ],
   "metadata": {
    "collapsed": false
   }
  },
  {
   "cell_type": "code",
   "execution_count": null,
   "outputs": [],
   "source": [],
   "metadata": {
    "collapsed": false
   }
  }
 ],
 "metadata": {
  "kernelspec": {
   "display_name": "base",
   "language": "python",
   "name": "python3"
  },
  "language_info": {
   "codemirror_mode": {
    "name": "ipython",
    "version": 3
   },
   "file_extension": ".py",
   "mimetype": "text/x-python",
   "name": "python",
   "nbconvert_exporter": "python",
   "pygments_lexer": "ipython3",
   "version": "3.9.13"
  },
  "orig_nbformat": 4,
  "vscode": {
   "interpreter": {
    "hash": "611692d17e63ed997ae73375d83c3c292dce2403bb7bb1a8a47f1836ea3197ec"
   }
  }
 },
 "nbformat": 4,
 "nbformat_minor": 2
}
